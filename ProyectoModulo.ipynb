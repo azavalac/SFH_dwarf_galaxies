{
  "nbformat": 4,
  "nbformat_minor": 0,
  "metadata": {
    "colab": {
      "provenance": [],
      "include_colab_link": true
    },
    "kernelspec": {
      "name": "python3",
      "display_name": "Python 3"
    },
    "language_info": {
      "name": "python"
    }
  },
  "cells": [
    {
      "cell_type": "markdown",
      "metadata": {
        "id": "view-in-github",
        "colab_type": "text"
      },
      "source": [
        "<a href=\"https://colab.research.google.com/github/azavalac/SFH_dwarf_galaxies/blob/main/ProyectoModulo.ipynb\" target=\"_parent\"><img src=\"https://colab.research.google.com/assets/colab-badge.svg\" alt=\"Open In Colab\"/></a>"
      ]
    },
    {
      "cell_type": "code",
      "execution_count": 4,
      "metadata": {
        "id": "w6h4jgGsfwWl",
        "colab": {
          "base_uri": "https://localhost:8080/"
        },
        "outputId": "54e3627e-3393-4483-f8a2-8e4b61c4a8d0",
        "collapsed": true
      },
      "outputs": [
        {
          "output_type": "stream",
          "name": "stdout",
          "text": [
            "Collecting artpop\n",
            "  Downloading artpop-0.1.1-py3-none-any.whl.metadata (2.0 kB)\n",
            "Requirement already satisfied: numpy>=1.17 in /usr/local/lib/python3.10/dist-packages (from artpop) (1.26.4)\n",
            "Requirement already satisfied: scipy>=1 in /usr/local/lib/python3.10/dist-packages (from artpop) (1.13.1)\n",
            "Requirement already satisfied: astropy>=4 in /usr/local/lib/python3.10/dist-packages (from artpop) (6.1.4)\n",
            "Requirement already satisfied: matplotlib>=3 in /usr/local/lib/python3.10/dist-packages (from artpop) (3.8.0)\n",
            "Collecting fast-histogram>=0.9 (from artpop)\n",
            "  Downloading fast_histogram-0.14-cp39-abi3-manylinux_2_5_x86_64.manylinux1_x86_64.manylinux_2_17_x86_64.manylinux2014_x86_64.whl.metadata (6.8 kB)\n",
            "Requirement already satisfied: requests in /usr/local/lib/python3.10/dist-packages (from artpop) (2.32.3)\n",
            "Requirement already satisfied: pyerfa>=2.0.1.1 in /usr/local/lib/python3.10/dist-packages (from astropy>=4->artpop) (2.0.1.4)\n",
            "Requirement already satisfied: astropy-iers-data>=0.2024.8.27.10.28.29 in /usr/local/lib/python3.10/dist-packages (from astropy>=4->artpop) (0.2024.10.28.0.34.7)\n",
            "Requirement already satisfied: PyYAML>=3.13 in /usr/local/lib/python3.10/dist-packages (from astropy>=4->artpop) (6.0.2)\n",
            "Requirement already satisfied: packaging>=19.0 in /usr/local/lib/python3.10/dist-packages (from astropy>=4->artpop) (24.1)\n",
            "Requirement already satisfied: contourpy>=1.0.1 in /usr/local/lib/python3.10/dist-packages (from matplotlib>=3->artpop) (1.3.0)\n",
            "Requirement already satisfied: cycler>=0.10 in /usr/local/lib/python3.10/dist-packages (from matplotlib>=3->artpop) (0.12.1)\n",
            "Requirement already satisfied: fonttools>=4.22.0 in /usr/local/lib/python3.10/dist-packages (from matplotlib>=3->artpop) (4.54.1)\n",
            "Requirement already satisfied: kiwisolver>=1.0.1 in /usr/local/lib/python3.10/dist-packages (from matplotlib>=3->artpop) (1.4.7)\n",
            "Requirement already satisfied: pillow>=6.2.0 in /usr/local/lib/python3.10/dist-packages (from matplotlib>=3->artpop) (10.4.0)\n",
            "Requirement already satisfied: pyparsing>=2.3.1 in /usr/local/lib/python3.10/dist-packages (from matplotlib>=3->artpop) (3.2.0)\n",
            "Requirement already satisfied: python-dateutil>=2.7 in /usr/local/lib/python3.10/dist-packages (from matplotlib>=3->artpop) (2.8.2)\n",
            "Requirement already satisfied: charset-normalizer<4,>=2 in /usr/local/lib/python3.10/dist-packages (from requests->artpop) (3.4.0)\n",
            "Requirement already satisfied: idna<4,>=2.5 in /usr/local/lib/python3.10/dist-packages (from requests->artpop) (3.10)\n",
            "Requirement already satisfied: urllib3<3,>=1.21.1 in /usr/local/lib/python3.10/dist-packages (from requests->artpop) (2.2.3)\n",
            "Requirement already satisfied: certifi>=2017.4.17 in /usr/local/lib/python3.10/dist-packages (from requests->artpop) (2024.8.30)\n",
            "Requirement already satisfied: six>=1.5 in /usr/local/lib/python3.10/dist-packages (from python-dateutil>=2.7->matplotlib>=3->artpop) (1.16.0)\n",
            "Downloading artpop-0.1.1-py3-none-any.whl (6.6 MB)\n",
            "\u001b[2K   \u001b[90m━━━━━━━━━━━━━━━━━━━━━━━━━━━━━━━━━━━━━━━━\u001b[0m \u001b[32m6.6/6.6 MB\u001b[0m \u001b[31m33.4 MB/s\u001b[0m eta \u001b[36m0:00:00\u001b[0m\n",
            "\u001b[?25hDownloading fast_histogram-0.14-cp39-abi3-manylinux_2_5_x86_64.manylinux1_x86_64.manylinux_2_17_x86_64.manylinux2014_x86_64.whl (55 kB)\n",
            "\u001b[2K   \u001b[90m━━━━━━━━━━━━━━━━━━━━━━━━━━━━━━━━━━━━━━━━\u001b[0m \u001b[32m55.4/55.4 kB\u001b[0m \u001b[31m3.3 MB/s\u001b[0m eta \u001b[36m0:00:00\u001b[0m\n",
            "\u001b[?25hInstalling collected packages: fast-histogram, artpop\n",
            "Successfully installed artpop-0.1.1 fast-histogram-0.14\n"
          ]
        }
      ],
      "source": [
        "#instalamos artpop\n",
        "!pip install artpop"
      ]
    },
    {
      "cell_type": "code",
      "source": [
        "import numpy as np\n",
        "import matplotlib.pyplot as plt\n",
        "from astropy import units as u\n",
        "\n",
        "import artpop\n",
        "\n",
        "# artpop's matplotlib style\n",
        "plt.style.use(artpop.mpl_style)\n",
        "\n",
        "# use this random state for reproducibility\n",
        "rng = np.random.RandomState(112)"
      ],
      "metadata": {
        "id": "wXC7LoTQxtYA",
        "colab": {
          "base_uri": "https://localhost:8080/"
        },
        "outputId": "0071b035-da87-4aea-c956-bec43be8a3b0"
      },
      "execution_count": 5,
      "outputs": [
        {
          "output_type": "stream",
          "name": "stdout",
          "text": [
            "\u001b[33mWARNING:\u001b[0m MIST_PATH environment variable does not exist. When you first use a MIST grid, it will be saved in\n",
            "/root/.artpop/mist. To change this location, create a MIST_PATH environment variable.\n"
          ]
        }
      ]
    },
    {
      "cell_type": "markdown",
      "source": [
        "BLOQUE CON LA FUNCION QUE DEVUELVE UN CSP A PARTIR DE 2 LISTAS CON EDADES Y SFR"
      ],
      "metadata": {
        "id": "OmC1sXbG72is"
      }
    },
    {
      "cell_type": "code",
      "source": [
        "#BLOQUE CON LA FUNCION QUE DEVUELVE UN CSP A PARTIR DE 2 LISTAS CON EDADES Y SFR\n",
        "\n",
        "#sfh_to_ssp: list x list -> csp\n",
        "#\n",
        "#\n",
        "def shf_to_ssp(sfh):\n",
        "  array_ssp = []\n",
        "\n",
        "  for i in range(sfh.shape[1]):\n",
        "    edad = sfh[0][i]\n",
        "    sfr = sfh[1][i]\n",
        "    #print(edad)\n",
        "    #print(\"edad en log age: \", np.log10(edad))\n",
        "    #print(\"sfr: \", sfr)\n",
        "\n",
        "    ssp = artpop.MISTSSP(\n",
        "      log_age = np.log10(edad), # log of age in years\n",
        "      num_stars = sfr,      # number of stars\n",
        "      feh = -1,             # metallicity [Fe/H]\n",
        "      phot_system = 'LSST', # photometric system(s)\n",
        "      random_state = rng,   # random state for reproducibility\n",
        "    )\n",
        "\n",
        "    array_ssp.append(ssp)\n",
        "\n",
        "  csp = array_ssp[0]\n",
        "\n",
        "  for i in range(1, len(array_ssp)):\n",
        "    csp = csp + array_ssp[i]\n",
        "\n",
        "  return csp"
      ],
      "metadata": {
        "id": "a9eKqPNbyIsV",
        "collapsed": true
      },
      "execution_count": 6,
      "outputs": []
    },
    {
      "cell_type": "code",
      "source": [
        "sfh_test = np.array([[1e8, 2e9, 7e9], [2e5, 1e3, 2e2]]) #edades en Gyr x SFR\n",
        "\n",
        "csp = shf_to_ssp(sfh_test)"
      ],
      "metadata": {
        "colab": {
          "base_uri": "https://localhost:8080/"
        },
        "id": "hSlN3a3l8IeN",
        "outputId": "4065b526-b677-4bbf-804a-5d6e5b97bab9"
      },
      "execution_count": null,
      "outputs": [
        {
          "output_type": "stream",
          "name": "stderr",
          "text": [
            "INFO:ArtPop Logger:Fetching MIST synthetic photometry grid for LSST.\n"
          ]
        },
        {
          "output_type": "stream",
          "name": "stdout",
          "text": [
            "INFO: Fetching MIST synthetic photometry grid for LSST.\n"
          ]
        },
        {
          "output_type": "stream",
          "name": "stderr",
          "text": [
            "INFO:ArtPop Logger:Extracting grid from MIST_v1.2_vvcrit0.4_LSST.txz.\n"
          ]
        },
        {
          "output_type": "stream",
          "name": "stdout",
          "text": [
            "INFO: Extracting grid from MIST_v1.2_vvcrit0.4_LSST.txz.\n"
          ]
        }
      ]
    },
    {
      "cell_type": "code",
      "source": [
        "def create_csp(array_ages, array_sfr):\n",
        "   csp = 0\n",
        "\n",
        "   for i in range(len(array_ages)):\n",
        "        # crear población con array_ages[i] y array_sfr[i]\n",
        "        age = array_ages[i]\n",
        "        sfr = array_sfr[i]\n",
        "        # añadirla al conjunto de poblaciones csp\n",
        "        #falta esto\n",
        "   return csp\n",
        "\n",
        "#ejemplo\n",
        "ages = np.log10(np.array([1e8, 2e9, 7e9]))  # Edades en log10 años\n",
        "sfr = np.array([2e5, 1e6, 2e4])\n",
        "csp_result = create_csp(ages, sfr)"
      ],
      "metadata": {
        "id": "LmU4iN_a3sCi",
        "collapsed": true
      },
      "execution_count": null,
      "outputs": []
    },
    {
      "cell_type": "markdown",
      "source": [
        "**SFH**"
      ],
      "metadata": {
        "id": "8Ep0uIdD7ZeY"
      }
    },
    {
      "cell_type": "code",
      "source": [
        "import matplotlib.pyplot as plt\n",
        "import numpy as np\n",
        "def plot_sfh(ages, sfr, metallicity=None, xlabel='Time (log age)', ylabel='SFR (M☉/yr)', title='Star Formation History (SFH)'):\n",
        "    \"\"\"\n",
        "    Función genérica para plotear un SFH basado en una CSP (Composite Stellar Population).\n",
        "\n",
        "    Parámetros:\n",
        "    - ages: lista  de edades (en log age).\n",
        "    - sfr: lista  de la tasa de formación estelar (SFR) correspondiente a cada edad.\n",
        "    - metallicity: opcional (lista o arreglo de metalicidades correspondiente a cada edad).\n",
        "    - xlabel: etiqueta del eje x (por defecto 'Time (log age)').\n",
        "    - ylabel: etiqueta del eje y (por defecto 'SFR (M☉/yr)').\n",
        "    \"\"\"\n",
        "\n",
        "    # Convertir los inputs a numpy arrays para mayor flexibilidad\n",
        "    ages = np.array(ages)\n",
        "    sfr = np.array(sfr)\n",
        "\n",
        "    # Crear el plot básico\n",
        "    plt.figure(figsize=(8, 6))\n",
        "    plt.plot(ages, sfr, label='SFR', color='blue', lw=2)\n",
        "\n",
        "    # Si se proporciona la metalicidad, hacer un gráfico adicional\n",
        "    # Esto va de extra\n",
        "    if metallicity is not None:\n",
        "        metallicity = np.array(metallicity)\n",
        "        plt.plot(ages, metallicity, label='Metallicity', color='orange', lw=2, linestyle='--')\n",
        "\n",
        "    # Personalizar el gráfico\n",
        "    plt.xlabel(xlabel)\n",
        "    plt.ylabel(ylabel)\n",
        "    plt.title(title)\n",
        "    plt.grid(True)\n",
        "    plt.legend()\n",
        "    plt.gca().invert_xaxis()  # invierte el eje de tiempo si es necesario (para que el tiempo \"avanzado\" esté a la derecha)\n",
        "    plt.show()\n",
        "\n",
        "# Ejemplo de uso\n",
        "ages = np.linspace(0, 13, 10)  # Edad desde 0 a 13 log age\n",
        "sfr = np.exp(-ages/3) * 5  # Ejemplo de una SFR decreciente exponencialmente\n",
        "metallicity = None  # Ejemplo de metalicidad creciente\n",
        "\n",
        "plot_sfh(ages, sfr, metallicity)\n"
      ],
      "metadata": {
        "id": "68htYFQv6c8U"
      },
      "execution_count": null,
      "outputs": []
    },
    {
      "cell_type": "code",
      "source": [
        "#SSP Y CSP DE PRUEBA\n",
        "\n",
        "ssp_old = artpop.MISTSSP(\n",
        "    log_age = 10.1,       # log of age in years\n",
        "    feh = -1.5,           # metallicity [Fe/H]\n",
        "    phot_system = 'LSST', # photometric system(s)\n",
        "    num_stars = 5e5,      # number of stars\n",
        "    random_state = rng,   # random state for reproducibility\n",
        ")\n",
        "\n",
        "ssp_intermediate = artpop.MISTSSP(\n",
        "    log_age = 9.5,        # log of age in years\n",
        "    feh = -1,             # metallicity [Fe/H]\n",
        "    phot_system = 'LSST', # photometric system(s)\n",
        "    num_stars = 1e5,      # number of stars\n",
        "    random_state = rng,   # random state for reproducibility\n",
        ")\n",
        "\n",
        "ssp_young = artpop.MISTSSP(\n",
        "    log_age = 8.5,        # log of age in years\n",
        "    feh = 0,              # metallicity [Fe/H]\n",
        "    phot_system = 'LSST', # photometric system(s)\n",
        "    num_stars = 1e4,      # number of stars\n",
        "    random_state = rng,   # random state for reproducibility\n",
        ")\n",
        "\n",
        "#csp = ssp_old + ssp_intermediate + ssp_young"
      ],
      "metadata": {
        "id": "rB_TLXpz7XsS"
      },
      "execution_count": null,
      "outputs": []
    },
    {
      "cell_type": "code",
      "source": [
        "i = csp.star_mags('LSST_i')\n",
        "g = csp.star_mags('LSST_g')\n",
        "\n",
        "old = csp.ssp_labels == 1\n",
        "med = csp.ssp_labels == 2\n",
        "young = csp.ssp_labels == 3\n",
        "\n",
        "plt.plot(g[old] - i[old], i[old], 'o',\n",
        "         c='tab:red', mec='k', label='old')\n",
        "plt.plot(g[med] - i[med], i[med], 'o',\n",
        "         c='tab:green', mec='k', label='intermediate')\n",
        "plt.plot(g[young] - i[young], i[young], 'o',\n",
        "         c='tab:blue', mec='k', label='young')\n",
        "plt.title('CMD')\n",
        "plt.legend(loc='center right')\n",
        "plt.minorticks_on()\n",
        "plt.gca().invert_yaxis()\n",
        "plt.xlabel(r'$g-i$')\n",
        "plt.ylabel(r'M$_i$');"
      ],
      "metadata": {
        "id": "oYSg4Jw_9FV-"
      },
      "execution_count": null,
      "outputs": []
    }
  ]
}