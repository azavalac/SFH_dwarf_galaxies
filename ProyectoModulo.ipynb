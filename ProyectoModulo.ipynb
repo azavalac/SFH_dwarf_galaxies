{
  "nbformat": 4,
  "nbformat_minor": 0,
  "metadata": {
    "colab": {
      "provenance": [],
      "include_colab_link": true
    },
    "kernelspec": {
      "name": "python3",
      "display_name": "Python 3"
    },
    "language_info": {
      "name": "python"
    }
  },
  "cells": [
    {
      "cell_type": "markdown",
      "metadata": {
        "id": "view-in-github",
        "colab_type": "text"
      },
      "source": [
        "<a href=\"https://colab.research.google.com/github/azavalac/SFH_dwarf_galaxies/blob/main/ProyectoModulo.ipynb\" target=\"_parent\"><img src=\"https://colab.research.google.com/assets/colab-badge.svg\" alt=\"Open In Colab\"/></a>"
      ]
    },
    {
      "cell_type": "code",
      "execution_count": 1,
      "metadata": {
        "id": "w6h4jgGsfwWl",
        "colab": {
          "base_uri": "https://localhost:8080/"
        },
        "outputId": "2962cae4-79f0-42fb-cf1e-90edeecd70c0",
        "collapsed": true
      },
      "outputs": [
        {
          "output_type": "stream",
          "name": "stdout",
          "text": [
            "Collecting artpop\n",
            "  Downloading artpop-0.1.1-py3-none-any.whl.metadata (2.0 kB)\n",
            "Requirement already satisfied: numpy>=1.17 in /usr/local/lib/python3.10/dist-packages (from artpop) (1.26.4)\n",
            "Requirement already satisfied: scipy>=1 in /usr/local/lib/python3.10/dist-packages (from artpop) (1.13.1)\n",
            "Requirement already satisfied: astropy>=4 in /usr/local/lib/python3.10/dist-packages (from artpop) (6.1.4)\n",
            "Requirement already satisfied: matplotlib>=3 in /usr/local/lib/python3.10/dist-packages (from artpop) (3.8.0)\n",
            "Collecting fast-histogram>=0.9 (from artpop)\n",
            "  Downloading fast_histogram-0.14-cp39-abi3-manylinux_2_5_x86_64.manylinux1_x86_64.manylinux_2_17_x86_64.manylinux2014_x86_64.whl.metadata (6.8 kB)\n",
            "Requirement already satisfied: requests in /usr/local/lib/python3.10/dist-packages (from artpop) (2.32.3)\n",
            "Requirement already satisfied: pyerfa>=2.0.1.1 in /usr/local/lib/python3.10/dist-packages (from astropy>=4->artpop) (2.0.1.4)\n",
            "Requirement already satisfied: astropy-iers-data>=0.2024.8.27.10.28.29 in /usr/local/lib/python3.10/dist-packages (from astropy>=4->artpop) (0.2024.10.28.0.34.7)\n",
            "Requirement already satisfied: PyYAML>=3.13 in /usr/local/lib/python3.10/dist-packages (from astropy>=4->artpop) (6.0.2)\n",
            "Requirement already satisfied: packaging>=19.0 in /usr/local/lib/python3.10/dist-packages (from astropy>=4->artpop) (24.1)\n",
            "Requirement already satisfied: contourpy>=1.0.1 in /usr/local/lib/python3.10/dist-packages (from matplotlib>=3->artpop) (1.3.0)\n",
            "Requirement already satisfied: cycler>=0.10 in /usr/local/lib/python3.10/dist-packages (from matplotlib>=3->artpop) (0.12.1)\n",
            "Requirement already satisfied: fonttools>=4.22.0 in /usr/local/lib/python3.10/dist-packages (from matplotlib>=3->artpop) (4.54.1)\n",
            "Requirement already satisfied: kiwisolver>=1.0.1 in /usr/local/lib/python3.10/dist-packages (from matplotlib>=3->artpop) (1.4.7)\n",
            "Requirement already satisfied: pillow>=6.2.0 in /usr/local/lib/python3.10/dist-packages (from matplotlib>=3->artpop) (10.4.0)\n",
            "Requirement already satisfied: pyparsing>=2.3.1 in /usr/local/lib/python3.10/dist-packages (from matplotlib>=3->artpop) (3.2.0)\n",
            "Requirement already satisfied: python-dateutil>=2.7 in /usr/local/lib/python3.10/dist-packages (from matplotlib>=3->artpop) (2.8.2)\n",
            "Requirement already satisfied: charset-normalizer<4,>=2 in /usr/local/lib/python3.10/dist-packages (from requests->artpop) (3.4.0)\n",
            "Requirement already satisfied: idna<4,>=2.5 in /usr/local/lib/python3.10/dist-packages (from requests->artpop) (3.10)\n",
            "Requirement already satisfied: urllib3<3,>=1.21.1 in /usr/local/lib/python3.10/dist-packages (from requests->artpop) (2.2.3)\n",
            "Requirement already satisfied: certifi>=2017.4.17 in /usr/local/lib/python3.10/dist-packages (from requests->artpop) (2024.8.30)\n",
            "Requirement already satisfied: six>=1.5 in /usr/local/lib/python3.10/dist-packages (from python-dateutil>=2.7->matplotlib>=3->artpop) (1.16.0)\n",
            "Downloading artpop-0.1.1-py3-none-any.whl (6.6 MB)\n",
            "\u001b[2K   \u001b[90m━━━━━━━━━━━━━━━━━━━━━━━━━━━━━━━━━━━━━━━━\u001b[0m \u001b[32m6.6/6.6 MB\u001b[0m \u001b[31m8.1 MB/s\u001b[0m eta \u001b[36m0:00:00\u001b[0m\n",
            "\u001b[?25hDownloading fast_histogram-0.14-cp39-abi3-manylinux_2_5_x86_64.manylinux1_x86_64.manylinux_2_17_x86_64.manylinux2014_x86_64.whl (55 kB)\n",
            "\u001b[2K   \u001b[90m━━━━━━━━━━━━━━━━━━━━━━━━━━━━━━━━━━━━━━━━\u001b[0m \u001b[32m55.4/55.4 kB\u001b[0m \u001b[31m2.9 MB/s\u001b[0m eta \u001b[36m0:00:00\u001b[0m\n",
            "\u001b[?25hInstalling collected packages: fast-histogram, artpop\n",
            "Successfully installed artpop-0.1.1 fast-histogram-0.14\n"
          ]
        }
      ],
      "source": [
        "#instalamos artpop\n",
        "!pip install artpop"
      ]
    },
    {
      "cell_type": "code",
      "source": [
        "import numpy as np\n",
        "import matplotlib.pyplot as plt\n",
        "from astropy import units as u\n",
        "\n",
        "import artpop\n",
        "\n",
        "# artpop's matplotlib style\n",
        "plt.style.use(artpop.mpl_style)\n",
        "\n",
        "# use this random state for reproducibility\n",
        "rng = np.random.RandomState(112)"
      ],
      "metadata": {
        "id": "wXC7LoTQxtYA",
        "colab": {
          "base_uri": "https://localhost:8080/"
        },
        "outputId": "d57f60ce-64e4-4abc-8573-ea02c562b305"
      },
      "execution_count": 2,
      "outputs": [
        {
          "output_type": "stream",
          "name": "stdout",
          "text": [
            "\u001b[33mWARNING:\u001b[0m MIST_PATH environment variable does not exist. When you first use a MIST grid, it will be saved in\n",
            "/root/.artpop/mist. To change this location, create a MIST_PATH environment variable.\n"
          ]
        }
      ]
    },
    {
      "cell_type": "markdown",
      "source": [
        "BLOQUE CON LA FUNCION QUE DEVUELVE UN CSP A PARTIR DE 2 LISTAS CON EDADES Y SFR"
      ],
      "metadata": {
        "id": "GU2F2pEYpwHW"
      }
    },
    {
      "cell_type": "code",
      "source": [
        "#BLOQUE CON LA FUNCION QUE DEVUELVE UN CSP A PARTIR DE 2 LISTAS CON EDADES Y SFR\n",
        "\n",
        "#sfh_to_ssp: list x list -> csp\n",
        "#\n",
        "#\n",
        "def shf_to_csp(r, t):\n",
        "  array_ssp = []\n",
        "\n",
        "  for i in range(r.shape):\n",
        "    edad = t\n",
        "    sfr = r\n",
        "    #print(edad)\n",
        "    #print(\"edad en log age: \", np.log10(edad))\n",
        "    #print(\"sfr: \", sfr)\n",
        "\n",
        "    ssp = artpop.MISTSSP(\n",
        "      log_age = np.log10(edad), # log of age in years\n",
        "      num_stars = sfr,      # number of stars\n",
        "      feh = -1,             # metallicity [Fe/H]\n",
        "      phot_system = 'LSST', # photometric system(s)\n",
        "      random_state = rng,   # random state for reproducibility\n",
        "    )\n",
        "\n",
        "    array_ssp.append(ssp)\n",
        "\n",
        "  csp = array_ssp[0]\n",
        "\n",
        "  for i in range(1, len(array_ssp)):\n",
        "    csp = csp + array_ssp[i]\n",
        "\n",
        "  return csp"
      ],
      "metadata": {
        "id": "a9eKqPNbyIsV",
        "collapsed": true
      },
      "execution_count": 3,
      "outputs": []
    },
    {
      "cell_type": "code",
      "source": [
        "#sfh_test = np.array([[1e8, 2e9, 7e9], [2e5, 1e3, 2e2]]) #edades en Gyr x SFR\n",
        "t= [1e8, 2e9, 7e9]\n",
        "r = [2e5, 1e3, 2e2]\n",
        "\n",
        "csp = shf_to_csp(r, t)"
      ],
      "metadata": {
        "id": "jfd-15QOp2BC",
        "colab": {
          "base_uri": "https://localhost:8080/",
          "height": 305
        },
        "outputId": "08c4aa3a-dee5-45bc-96b7-55de20dd4471"
      },
      "execution_count": 4,
      "outputs": [
        {
          "output_type": "error",
          "ename": "AttributeError",
          "evalue": "'list' object has no attribute 'shape'",
          "traceback": [
            "\u001b[0;31m---------------------------------------------------------------------------\u001b[0m",
            "\u001b[0;31mAttributeError\u001b[0m                            Traceback (most recent call last)",
            "\u001b[0;32m<ipython-input-4-1c019f17c53d>\u001b[0m in \u001b[0;36m<cell line: 5>\u001b[0;34m()\u001b[0m\n\u001b[1;32m      3\u001b[0m \u001b[0mr\u001b[0m \u001b[0;34m=\u001b[0m \u001b[0;34m[\u001b[0m\u001b[0;36m2e5\u001b[0m\u001b[0;34m,\u001b[0m \u001b[0;36m1e3\u001b[0m\u001b[0;34m,\u001b[0m \u001b[0;36m2e2\u001b[0m\u001b[0;34m]\u001b[0m\u001b[0;34m\u001b[0m\u001b[0;34m\u001b[0m\u001b[0m\n\u001b[1;32m      4\u001b[0m \u001b[0;34m\u001b[0m\u001b[0m\n\u001b[0;32m----> 5\u001b[0;31m \u001b[0mcsp\u001b[0m \u001b[0;34m=\u001b[0m \u001b[0mshf_to_csp\u001b[0m\u001b[0;34m(\u001b[0m\u001b[0mr\u001b[0m\u001b[0;34m,\u001b[0m \u001b[0mt\u001b[0m\u001b[0;34m)\u001b[0m\u001b[0;34m\u001b[0m\u001b[0;34m\u001b[0m\u001b[0m\n\u001b[0m",
            "\u001b[0;32m<ipython-input-3-f83b6cba88ce>\u001b[0m in \u001b[0;36mshf_to_csp\u001b[0;34m(r, t)\u001b[0m\n\u001b[1;32m      7\u001b[0m   \u001b[0marray_ssp\u001b[0m \u001b[0;34m=\u001b[0m \u001b[0;34m[\u001b[0m\u001b[0;34m]\u001b[0m\u001b[0;34m\u001b[0m\u001b[0;34m\u001b[0m\u001b[0m\n\u001b[1;32m      8\u001b[0m \u001b[0;34m\u001b[0m\u001b[0m\n\u001b[0;32m----> 9\u001b[0;31m   \u001b[0;32mfor\u001b[0m \u001b[0mi\u001b[0m \u001b[0;32min\u001b[0m \u001b[0mrange\u001b[0m\u001b[0;34m(\u001b[0m\u001b[0mr\u001b[0m\u001b[0;34m.\u001b[0m\u001b[0mshape\u001b[0m\u001b[0;34m)\u001b[0m\u001b[0;34m:\u001b[0m\u001b[0;34m\u001b[0m\u001b[0;34m\u001b[0m\u001b[0m\n\u001b[0m\u001b[1;32m     10\u001b[0m     \u001b[0medad\u001b[0m \u001b[0;34m=\u001b[0m \u001b[0mt\u001b[0m\u001b[0;34m\u001b[0m\u001b[0;34m\u001b[0m\u001b[0m\n\u001b[1;32m     11\u001b[0m     \u001b[0msfr\u001b[0m \u001b[0;34m=\u001b[0m \u001b[0mr\u001b[0m\u001b[0;34m\u001b[0m\u001b[0;34m\u001b[0m\u001b[0m\n",
            "\u001b[0;31mAttributeError\u001b[0m: 'list' object has no attribute 'shape'"
          ]
        }
      ]
    },
    {
      "cell_type": "code",
      "source": [
        "def create_csp(array_ages, array_sfr):\n",
        "   csp = 0\n",
        "\n",
        "   for i in range(len(array_ages)):\n",
        "        # crear población con array_ages[i] y array_sfr[i]\n",
        "        age = array_ages[i]\n",
        "        sfr = array_sfr[i]\n",
        "        # añadirla al conjunto de poblaciones csp\n",
        "        #falta esto\n",
        "   return csp\n",
        "\n",
        "#ejemplo\n",
        "ages = np.log10(np.array([1e8, 2e9, 7e9]))  # Edades en log10 años\n",
        "sfr = np.array([2e5, 1e6, 2e4])\n",
        "csp_result = create_csp(ages, sfr)"
      ],
      "metadata": {
        "id": "LmU4iN_a3sCi",
        "collapsed": true
      },
      "execution_count": null,
      "outputs": []
    },
    {
      "cell_type": "markdown",
      "source": [
        "**SFH**"
      ],
      "metadata": {
        "id": "8Ep0uIdD7ZeY"
      }
    },
    {
      "cell_type": "code",
      "source": [
        "i = csp.star_mags('LSST_i')\n",
        "g = csp.star_mags('LSST_g')\n",
        "\n",
        "old = csp.ssp_labels == 1\n",
        "med = csp.ssp_labels == 2\n",
        "young = csp.ssp_labels == 3\n",
        "\n",
        "plt.plot(g[old] - i[old], i[old], 'o',\n",
        "         c='tab:red', mec='k', label='old')\n",
        "plt.plot(g[med] - i[med], i[med], 'o',\n",
        "         c='tab:green', mec='k', label='intermediate')\n",
        "plt.plot(g[young] - i[young], i[young], 'o',\n",
        "         c='tab:blue', mec='k', label='young')\n",
        "\n",
        "plt.legend(loc='center right')\n",
        "plt.minorticks_on()\n",
        "plt.gca().invert_yaxis()\n",
        "plt.xlabel(r'$g-i$')\n",
        "plt.ylabel(r'M$_i$');"
      ],
      "metadata": {
        "id": "oYSg4Jw_9FV-"
      },
      "execution_count": null,
      "outputs": []
    },
    {
      "cell_type": "code",
      "source": [
        "def plot_cmd_from_sfh(sfh): # Funcion que plotea el CMD dado un SFH\n",
        "    \"\"\"\n",
        "    Genera y grafica el CMD a partir de una SFH, mostrando poblaciones antiguas, intermedias y jóvenes.\n",
        "    \"\"\"\n",
        "    # Generar la población estelar compuesta (CSP) a partir del SFH\n",
        "    csp = shf_to_ssp(sfh)\n",
        "\n",
        "    # Obtener magnitudes en las bandas i y g del sistema LSST\n",
        "    i_mags = csp.star_mags('LSST_i')\n",
        "    g_mags = csp.star_mags('LSST_g')\n",
        "\n",
        "    # Definir etiquetas para clasificar las estrellas según la edad\n",
        "    old = csp.ssp_labels == 1       # Población antigua\n",
        "    med = csp.ssp_labels == 2       # Población intermedia\n",
        "    young = csp.ssp_labels == 3     # Población joven\n",
        "\n",
        "    # Crear el gráfico del CMD\n",
        "    plt.figure(figsize=(8, 6))\n",
        "    plt.plot(g_mags[old] - i_mags[old], i_mags[old], 'o', c='tab:red', mec='k', label='old')\n",
        "    plt.plot(g_mags[med] - i_mags[med], i_mags[med], 'o', c='tab:green', mec='k', label='intermediate')\n",
        "    plt.plot(g_mags[young] - i_mags[young], i_mags[young], 'o', c='tab:blue', mec='k', label='young')\n",
        "\n",
        "    # Configurar etiquetas y formato del gráfico\n",
        "    plt.legend(loc='center right')\n",
        "    plt.minorticks_on()\n",
        "    plt.gca().invert_yaxis()  # Invertir el eje Y para magnitudes\n",
        "    plt.xlabel(r'$g - i$')\n",
        "    plt.ylabel(r'M$_i$')\n",
        "    plt.title('Diagrama Color-Magnitud (CMD) desde SFH')\n",
        "    plt.grid(True)\n",
        "    plt.show()\n",
        "\n",
        "# Llamar a la función con sfh_test\n",
        "plot_cmd_from_sfh(sfh_test)"
      ],
      "metadata": {
        "id": "jSlHO0iegMrq"
      },
      "execution_count": null,
      "outputs": []
    },
    {
      "cell_type": "code",
      "source": [
        "def calcular_error_magnitud(F):\n",
        "    return 1.09 / np.sqrt(F)\n",
        "\n",
        "def plot_cmd_from_sfh(sfh): # Genera y grafica el CMD a partir de una SFH, mostrando poblaciones antiguas, intermedias y jóvenes, incluyendo ruido en las magnitudes.\n",
        "\n",
        "    # Generar la población estelar compuesta (CSP) a partir del SFH\n",
        "    csp = shf_to_ssp(sfh)\n",
        "\n",
        "    # Obtener magnitudes en las bandas i y g del sistema LSST\n",
        "    i_mags = csp.star_mags('LSST_i')\n",
        "    g_mags = csp.star_mags('LSST_g')\n",
        "\n",
        "    # Suponemos que el flujo es proporcional a la magnitud en cada banda\n",
        "    flujo_i = 10 ** (-0.0005 * i_mags)  # Convertir magnitudes a flujos aproximados para calcular el error\n",
        "    flujo_g = 10 ** (-0.0005 * g_mags)  #HAY QUE VARIAR ESTO PARA QUE NO SE VEA ASI\n",
        "\n",
        "    # Calcular el ruido en magnitudes\n",
        "    i_noise = calcular_error_magnitud(flujo_i) * np.random.normal(0, 1, len(i_mags))\n",
        "    g_noise = calcular_error_magnitud(flujo_g) * np.random.normal(0, 1, len(g_mags))\n",
        "\n",
        "    # Agregar el ruido a las magnitudes\n",
        "    i_mags_noisy = i_mags + i_noise\n",
        "    g_mags_noisy = g_mags + g_noise\n",
        "\n",
        "    # Definir etiquetas para clasificar las estrellas según la edad\n",
        "    old = csp.ssp_labels == 1       # Población antigua\n",
        "    med = csp.ssp_labels == 2       # Población intermedia\n",
        "    young = csp.ssp_labels == 3     # Población joven\n",
        "\n",
        "    # Crear el gráfico del CMD con ruido agregado\n",
        "    plt.figure(figsize=(8, 6))\n",
        "    plt.plot(g_mags_noisy[old] - i_mags_noisy[old], i_mags_noisy[old], 'o', c='tab:red', mec='k', label='old')\n",
        "    plt.plot(g_mags_noisy[med] - i_mags_noisy[med], i_mags_noisy[med], 'o', c='tab:green', mec='k', label='intermediate')\n",
        "    plt.plot(g_mags_noisy[young] - i_mags_noisy[young], i_mags_noisy[young], 'o', c='tab:blue', mec='k', label='young')\n",
        "\n",
        "    # Configurar etiquetas y formato del gráfico\n",
        "    plt.legend(loc='center right')\n",
        "    plt.minorticks_on()\n",
        "    plt.gca().invert_yaxis()  # Invertir el eje Y para magnitudes\n",
        "    plt.xlabel(r'$g - i$')\n",
        "    plt.ylabel(r'M$_i$')\n",
        "    plt.title('Diagrama Color-Magnitud (CMD) desde SFH con ruido')\n",
        "    plt.grid(True)\n",
        "    plt.show()\n",
        "\n",
        "plot_cmd_from_sfh(sfh_test)"
      ],
      "metadata": {
        "id": "5asVYtpch6cI"
      },
      "execution_count": null,
      "outputs": []
    },
    {
      "cell_type": "markdown",
      "source": [
        "Histograma 2D (revisar si está bien)"
      ],
      "metadata": {
        "id": "3t9un24ikaDq"
      }
    },
    {
      "cell_type": "code",
      "source": [
        "def plot_cmd_histogram_from_sfh(sfh): # Genera y grafica el histograma 2D del CMD a partir de una SFH.\n",
        "\n",
        "    # Generar la población estelar compuesta (CSP) a partir del SFH\n",
        "    csp = shf_to_ssp(sfh)\n",
        "\n",
        "    # Obtener magnitudes en las bandas i y g del sistema LSST\n",
        "    i_mags = csp.star_mags('LSST_i')\n",
        "    g_mags = csp.star_mags('LSST_g')\n",
        "\n",
        "    # Calcular el color (g - i)\n",
        "    color_g_i = g_mags - i_mags\n",
        "\n",
        "    # Rango fijo para el histograma\n",
        "    color_range = (-0.5, 1.5)  # Rango de color (g - i)\n",
        "    mag_range = (-6, 5)        # Rango de magnitud i\n",
        "\n",
        "    # Crear el histograma 2D\n",
        "    plt.figure(figsize=(8, 6))\n",
        "    plt.hist2d(color_g_i, i_mags, bins=200, range=[color_range, mag_range], cmap='viridis')\n",
        "\n",
        "    # Configurar etiquetas y formato del gráfico\n",
        "    plt.colorbar(label='Número de estrellas')\n",
        "    plt.gca().invert_yaxis()  # Invertir el eje Y para magnitudes\n",
        "    plt.xlabel(r'$g - i$')\n",
        "    plt.ylabel(r'M$_i$')\n",
        "    plt.title('Histograma 2D del CMD')\n",
        "    plt.grid(False)\n",
        "    plt.show()\n",
        "\n",
        "plot_cmd_histogram_from_sfh(sfh_test)"
      ],
      "metadata": {
        "id": "RNuPCfaqkZfO"
      },
      "execution_count": null,
      "outputs": []
    },
    {
      "cell_type": "markdown",
      "source": [
        "Grilla (revisar si esta bien)\n"
      ],
      "metadata": {
        "id": "tlBLc3HMldMb"
      }
    },
    {
      "cell_type": "code",
      "source": [
        "from scipy.ndimage import gaussian_filter\n",
        "\n",
        "def Grilla_de_SFH(sfh): # Genera y grafica el histograma 2D normalizado y suavizado del CMD a partir de una SFH.\n",
        "\n",
        "    # Generar la población estelar compuesta (CSP) a partir del SFH\n",
        "    csp = shf_to_ssp(sfh)\n",
        "\n",
        "    # Obtener magnitudes en las bandas i y g del sistema LSST\n",
        "    i_mags = csp.star_mags('LSST_i')\n",
        "    g_mags = csp.star_mags('LSST_g')\n",
        "\n",
        "    # Calcular el color (g - i)\n",
        "    color_g_i = g_mags - i_mags\n",
        "\n",
        "    # Rango fijo para el histograma\n",
        "    color_range = (-0.5, 1.5)  # Rango de color (g - i)\n",
        "    mag_range = (-6, 5)        # Rango de magnitud i\n",
        "\n",
        "    # Crear el histograma 2D\n",
        "    hist, xedges, yedges = np.histogram2d(color_g_i, i_mags, bins=100, range=[color_range, mag_range])\n",
        "\n",
        "    # Normalizar el histograma\n",
        "    hist_normalized = hist / hist.sum()\n",
        "\n",
        "    # Aplicar un filtro Gaussiano para suavizar\n",
        "    hist_smoothed = gaussian_filter(hist_normalized, sigma=1)  # Puedes ajustar sigma según el nivel de suavizado deseado\n",
        "\n",
        "    # Graficar el histograma 2D suavizado\n",
        "    plt.figure(figsize=(8, 6))\n",
        "    plt.imshow(hist_smoothed.T, extent=[color_range[0], color_range[1], mag_range[0], mag_range[1]],\n",
        "               origin='lower', aspect='auto', cmap='viridis')\n",
        "\n",
        "    # Configurar etiquetas y formato del gráfico\n",
        "    plt.colorbar(label='Densidad de estrellas normalizada')\n",
        "    plt.gca().invert_yaxis()  # Invertir el eje Y para magnitudes\n",
        "    plt.xlabel(r'$g - i$')\n",
        "    plt.ylabel(r'M$_i$')\n",
        "    plt.title('Histograma 2D del CMD con suavizado')\n",
        "    plt.grid(False)\n",
        "    plt.show()\n",
        "\n",
        "Grilla_de_SFH(sfh_test)"
      ],
      "metadata": {
        "id": "X1-pneOGlbl5"
      },
      "execution_count": null,
      "outputs": []
    },
    {
      "cell_type": "markdown",
      "source": [
        "Creación de SFH (Danilo)"
      ],
      "metadata": {
        "id": "fIbuXfIyXxFV"
      }
    },
    {
      "cell_type": "code",
      "source": [
        "#funcion original con modificaciones correctas\n",
        "\n",
        "import numpy as np\n",
        "import matplotlib.pyplot as plt\n",
        "\n",
        "def create_sfh(n_points, n_stars, H_noise=30):\n",
        "    #n_stars es el numero final de estrellas q podriamos formar\n",
        "    # Randomize amplitude and phase\n",
        "    rho = np.random.rand(H_noise) * np.logspace(0.5, -2.5, H_noise)\n",
        "    phi = np.random.rand(H_noise) * 2 * np.pi\n",
        "\n",
        "    # Accumulate r(t) over t = [0, 2*pi]\n",
        "    t = np.linspace(0, np.pi, n_points+1)\n",
        "    r = np.ones_like(t)\n",
        "    for h in range(1, H_noise + 1):\n",
        "        r += rho[h - 1] * np.sin(h * t + phi[h - 1])\n",
        "\n",
        "    # Update t to go from 0 to 14.\n",
        "    t = 1e-3+t*14 / np.pi\n",
        "\n",
        "    # Update r to go from 0 to 1\n",
        "    r_mask = r < 0.6 # Esto es para tener regiones sin formación. Este parámetro se puede variar\n",
        "\n",
        "    r = r/r.max()\n",
        "    r[r_mask] = 0\n",
        "    r *= n_stars / n_points\n",
        "\n",
        "    return r, t\n",
        "\n",
        "\n",
        "\n",
        "def display_sfh(r, t):\n",
        "    plt.figure(figsize=(8, 4))\n",
        "    plt.title('SFH', fontsize=18)\n",
        "\n",
        "    plt.bar(t, r, color='grey', width=10/len(t), edgecolor='black')\n",
        "    plt.plot(t, r, 'ro')\n",
        "    plt.plot(t, r, '--b')\n",
        "    plt.xlabel('Time [Gyr]', fontsize=15)\n",
        "    plt.ylabel('SFR', fontsize=15)\n",
        "\n",
        "    plt.tick_params(axis='both', labelsize=12)\n",
        "    plt.tight_layout()\n",
        "    plt.show()\n",
        "\n",
        "r, t = create_sfh(10,1e6, 100)\n",
        "print(r)\n",
        "print(t)\n",
        "display_sfh(r, t)"
      ],
      "metadata": {
        "id": "qVVBaZQoY5_I"
      },
      "execution_count": null,
      "outputs": []
    },
    {
      "cell_type": "code",
      "source": [
        "cspNew = shf_to_csp([t, r])"
      ],
      "metadata": {
        "id": "gM2MHXzAdFl7"
      },
      "execution_count": null,
      "outputs": []
    },
    {
      "cell_type": "markdown",
      "source": [
        "Prueba de create_SFH, probamos distintos valores para H_noise"
      ],
      "metadata": {
        "id": "VhaFZwj0X0ge"
      }
    },
    {
      "cell_type": "code",
      "source": [
        "r, t = create_sfh(20, 7) # Probamos con un r=20 para tener mas puntos y t=7 el cual da pertubaciones mas suaves\n",
        "display_sfh(r, t)\n",
        "\n",
        "r, t = create_sfh(10, 150) # Probamos t=150 el cual da pertubaciones mas grandes\n",
        "display_sfh(r, t)\n",
        "\n",
        "r, t = create_sfh(10, 40) # Probamos t=1 el cual da pertubaciones mas pequeñas\n",
        "display_sfh(r, t)"
      ],
      "metadata": {
        "id": "8ivs4UaEWorc"
      },
      "execution_count": null,
      "outputs": []
    },
    {
      "cell_type": "markdown",
      "source": [
        "*Hay que probar si la 1ra función funciona con estos nuevos SFH"
      ],
      "metadata": {
        "id": "KQ9C13hknKsY"
      }
    },
    {
      "cell_type": "code",
      "source": [
        "import tensorflow as tf\n",
        "from tensorflow.keras.models import Sequential\n",
        "from tensorflow.keras.layers import Dense, LSTM, Dropout\n",
        "\n",
        "# Definir el modelo de red neuronal\n",
        "def create_sfh_model(input_shape):\n",
        "    model = Sequential()\n",
        "    # Primera capa LSTM para capturar patrones secuenciales de SFH\n",
        "    model.add(LSTM(64, input_shape=input_shape, return_sequences=True))\n",
        "    model.add(Dropout(0.2))\n",
        "    # Segunda capa LSTM\n",
        "    model.add(LSTM(32, return_sequences=False))\n",
        "    model.add(Dropout(0.2))\n",
        "    # Capa densa final para la salida (ajustar el número de neuronas según el formato de salida deseado)\n",
        "    model.add(Dense(1, activation='linear'))  # salida continua\n",
        "    return model\n",
        "\n",
        "# Crear el modelo con la forma de entrada adecuada (número de pasos de tiempo y características)\n",
        "input_shape = (timesteps, features)  # Especifica `timesteps` y `features` según tu estructura de datos\n",
        "model = create_sfh_model(input_shape)\n",
        "\n",
        "# Compilar el modelo\n",
        "model.compile(optimizer='adam', loss='mse')\n",
        "\n",
        "# Entrenamiento del modelo (usar tus datos de entrada `X_train` y salida `y_train`)\n",
        "# model.fit(X_train, y_train, epochs=50, batch_size=32, validation_split=0.2)\n"
      ],
      "metadata": {
        "id": "nthCtWQ5nV6g",
        "colab": {
          "base_uri": "https://localhost:8080/",
          "height": 216
        },
        "outputId": "928d3f3b-609c-4ded-c972-079edefa0457"
      },
      "execution_count": 5,
      "outputs": [
        {
          "output_type": "error",
          "ename": "NameError",
          "evalue": "name 'timesteps' is not defined",
          "traceback": [
            "\u001b[0;31m---------------------------------------------------------------------------\u001b[0m",
            "\u001b[0;31mNameError\u001b[0m                                 Traceback (most recent call last)",
            "\u001b[0;32m<ipython-input-5-49daa240d844>\u001b[0m in \u001b[0;36m<cell line: 19>\u001b[0;34m()\u001b[0m\n\u001b[1;32m     17\u001b[0m \u001b[0;34m\u001b[0m\u001b[0m\n\u001b[1;32m     18\u001b[0m \u001b[0;31m# Crear el modelo con la forma de entrada adecuada (número de pasos de tiempo y características)\u001b[0m\u001b[0;34m\u001b[0m\u001b[0;34m\u001b[0m\u001b[0m\n\u001b[0;32m---> 19\u001b[0;31m \u001b[0minput_shape\u001b[0m \u001b[0;34m=\u001b[0m \u001b[0;34m(\u001b[0m\u001b[0mtimesteps\u001b[0m\u001b[0;34m,\u001b[0m \u001b[0mfeatures\u001b[0m\u001b[0;34m)\u001b[0m  \u001b[0;31m# Especifica `timesteps` y `features` según tu estructura de datos\u001b[0m\u001b[0;34m\u001b[0m\u001b[0;34m\u001b[0m\u001b[0m\n\u001b[0m\u001b[1;32m     20\u001b[0m \u001b[0mmodel\u001b[0m \u001b[0;34m=\u001b[0m \u001b[0mcreate_sfh_model\u001b[0m\u001b[0;34m(\u001b[0m\u001b[0minput_shape\u001b[0m\u001b[0;34m)\u001b[0m\u001b[0;34m\u001b[0m\u001b[0;34m\u001b[0m\u001b[0m\n\u001b[1;32m     21\u001b[0m \u001b[0;34m\u001b[0m\u001b[0m\n",
            "\u001b[0;31mNameError\u001b[0m: name 'timesteps' is not defined"
          ]
        }
      ]
    }
  ]
}